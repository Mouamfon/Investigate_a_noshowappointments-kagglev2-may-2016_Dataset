{
 "cells": [
  {
   "cell_type": "markdown",
   "metadata": {},
   "source": [
    "# Project : Analyse exploratoire de - [noshowappointments-kagglev2-may-2016] - Dataset\n",
    "\n",
    "## Table des matières\n",
    "<ul>\n",
    "<li><a href=\"#intro\">Introduction</a></li>\n",
    "<li><a href=\"#adlf\">Préparation des données</a></li>\n",
    "<li><a href=\"#adf\">Analyse exploratoire des données</a></li>\n",
    "<li><a href=\"#conclusion\">Conclusions</a></li>\n",
    "<li><a href=\"#limite\">Limites</a></li>\n",
    "</ul>"
   ]
  },
  {
   "cell_type": "markdown",
   "metadata": {},
   "source": [
    "<a id='intro'></a>\n",
    "## Introduction\n",
    "\n",
    "### Description de la Dataset \n",
    "\n",
    "> La Dataset dont nous sommes sur le point d'analyser est celle d'un ensemble de données recueillant des informations sur 100 000 rendez-vous médicaux au Brésil et se concentre sur la question de savoir si les patients se présentent ou non à leur rendez-vous.\n",
    "\n",
    "### Qestionnaires d'exploration\n",
    "<ul>\n",
    "<li><a href=\"#Q1\">Question 1 : Quelle est le pourcentage des patients qui ont honoré à leur rendez-vous ?</a></li>\n",
    "<li><a href=\"#Q2\">Question 2 : L'obtention de la bourse a t-elle une inflience sur le respect des rendez-vous ?</a></li>\n",
    "<li><a href=\"#Q3\">Question 3 : Quel serait la distribution du genre sur l'âge ?</a></li>\n",
    "<li><a href=\"#Q4\">Question 4 : Quel serait la répartition des âges sur l'effectif des patients ?</a></li>\n",
    "</ul>"
   ]
  },
  {
   "cell_type": "markdown",
   "metadata": {},
   "source": [
    "<a id='adlf'></a>\n",
    "## Préparation des données\n",
    "\n",
    "> Dans cette première partie, nous allons :\n",
    "  - Importer les paquets nécessaires pour notre analyse;\n",
    "  - Importer notre Dataset et afficher ses premières lignes;\n",
    "  - Identifier les nombres de ligne et colonne;\n",
    "  - Vérifier si elle contient des valeurs manquantes et supprimer les colonnes non pertinantes pour l'analyse;\n",
    "  - Rechercher les doublons et les supprimer éventuellement;\n",
    "  - Explorer les variables et leurs types."
   ]
  },
  {
   "cell_type": "code",
   "execution_count": 1,
   "metadata": {},
   "outputs": [],
   "source": [
    "# Importation des bibliothèques  \n",
    "import pandas as pd\n",
    "import numpy as np\n",
    "import matplotlib.pyplot as plt\n",
    "%matplotlib inline"
   ]
  },
  {
   "cell_type": "code",
   "execution_count": 2,
   "metadata": {
    "scrolled": true
   },
   "outputs": [
    {
     "data": {
      "text/html": [
       "<div>\n",
       "<style scoped>\n",
       "    .dataframe tbody tr th:only-of-type {\n",
       "        vertical-align: middle;\n",
       "    }\n",
       "\n",
       "    .dataframe tbody tr th {\n",
       "        vertical-align: top;\n",
       "    }\n",
       "\n",
       "    .dataframe thead th {\n",
       "        text-align: right;\n",
       "    }\n",
       "</style>\n",
       "<table border=\"1\" class=\"dataframe\">\n",
       "  <thead>\n",
       "    <tr style=\"text-align: right;\">\n",
       "      <th></th>\n",
       "      <th>PatientId</th>\n",
       "      <th>AppointmentID</th>\n",
       "      <th>Gender</th>\n",
       "      <th>ScheduledDay</th>\n",
       "      <th>AppointmentDay</th>\n",
       "      <th>Age</th>\n",
       "      <th>Neighbourhood</th>\n",
       "      <th>Scholarship</th>\n",
       "      <th>Hipertension</th>\n",
       "      <th>Diabetes</th>\n",
       "      <th>Alcoholism</th>\n",
       "      <th>Handcap</th>\n",
       "      <th>SMS_received</th>\n",
       "      <th>No-show</th>\n",
       "    </tr>\n",
       "  </thead>\n",
       "  <tbody>\n",
       "    <tr>\n",
       "      <th>0</th>\n",
       "      <td>2.987250e+13</td>\n",
       "      <td>5642903</td>\n",
       "      <td>F</td>\n",
       "      <td>2016-04-29T18:38:08Z</td>\n",
       "      <td>2016-04-29T00:00:00Z</td>\n",
       "      <td>62</td>\n",
       "      <td>JARDIM DA PENHA</td>\n",
       "      <td>0</td>\n",
       "      <td>1</td>\n",
       "      <td>0</td>\n",
       "      <td>0</td>\n",
       "      <td>0</td>\n",
       "      <td>0</td>\n",
       "      <td>No</td>\n",
       "    </tr>\n",
       "    <tr>\n",
       "      <th>1</th>\n",
       "      <td>5.589978e+14</td>\n",
       "      <td>5642503</td>\n",
       "      <td>M</td>\n",
       "      <td>2016-04-29T16:08:27Z</td>\n",
       "      <td>2016-04-29T00:00:00Z</td>\n",
       "      <td>56</td>\n",
       "      <td>JARDIM DA PENHA</td>\n",
       "      <td>0</td>\n",
       "      <td>0</td>\n",
       "      <td>0</td>\n",
       "      <td>0</td>\n",
       "      <td>0</td>\n",
       "      <td>0</td>\n",
       "      <td>No</td>\n",
       "    </tr>\n",
       "    <tr>\n",
       "      <th>2</th>\n",
       "      <td>4.262962e+12</td>\n",
       "      <td>5642549</td>\n",
       "      <td>F</td>\n",
       "      <td>2016-04-29T16:19:04Z</td>\n",
       "      <td>2016-04-29T00:00:00Z</td>\n",
       "      <td>62</td>\n",
       "      <td>MATA DA PRAIA</td>\n",
       "      <td>0</td>\n",
       "      <td>0</td>\n",
       "      <td>0</td>\n",
       "      <td>0</td>\n",
       "      <td>0</td>\n",
       "      <td>0</td>\n",
       "      <td>No</td>\n",
       "    </tr>\n",
       "    <tr>\n",
       "      <th>3</th>\n",
       "      <td>8.679512e+11</td>\n",
       "      <td>5642828</td>\n",
       "      <td>F</td>\n",
       "      <td>2016-04-29T17:29:31Z</td>\n",
       "      <td>2016-04-29T00:00:00Z</td>\n",
       "      <td>8</td>\n",
       "      <td>PONTAL DE CAMBURI</td>\n",
       "      <td>0</td>\n",
       "      <td>0</td>\n",
       "      <td>0</td>\n",
       "      <td>0</td>\n",
       "      <td>0</td>\n",
       "      <td>0</td>\n",
       "      <td>No</td>\n",
       "    </tr>\n",
       "    <tr>\n",
       "      <th>4</th>\n",
       "      <td>8.841186e+12</td>\n",
       "      <td>5642494</td>\n",
       "      <td>F</td>\n",
       "      <td>2016-04-29T16:07:23Z</td>\n",
       "      <td>2016-04-29T00:00:00Z</td>\n",
       "      <td>56</td>\n",
       "      <td>JARDIM DA PENHA</td>\n",
       "      <td>0</td>\n",
       "      <td>1</td>\n",
       "      <td>1</td>\n",
       "      <td>0</td>\n",
       "      <td>0</td>\n",
       "      <td>0</td>\n",
       "      <td>No</td>\n",
       "    </tr>\n",
       "  </tbody>\n",
       "</table>\n",
       "</div>"
      ],
      "text/plain": [
       "      PatientId  AppointmentID Gender          ScheduledDay  \\\n",
       "0  2.987250e+13        5642903      F  2016-04-29T18:38:08Z   \n",
       "1  5.589978e+14        5642503      M  2016-04-29T16:08:27Z   \n",
       "2  4.262962e+12        5642549      F  2016-04-29T16:19:04Z   \n",
       "3  8.679512e+11        5642828      F  2016-04-29T17:29:31Z   \n",
       "4  8.841186e+12        5642494      F  2016-04-29T16:07:23Z   \n",
       "\n",
       "         AppointmentDay  Age      Neighbourhood  Scholarship  Hipertension  \\\n",
       "0  2016-04-29T00:00:00Z   62    JARDIM DA PENHA            0             1   \n",
       "1  2016-04-29T00:00:00Z   56    JARDIM DA PENHA            0             0   \n",
       "2  2016-04-29T00:00:00Z   62      MATA DA PRAIA            0             0   \n",
       "3  2016-04-29T00:00:00Z    8  PONTAL DE CAMBURI            0             0   \n",
       "4  2016-04-29T00:00:00Z   56    JARDIM DA PENHA            0             1   \n",
       "\n",
       "   Diabetes  Alcoholism  Handcap  SMS_received No-show  \n",
       "0         0           0        0             0      No  \n",
       "1         0           0        0             0      No  \n",
       "2         0           0        0             0      No  \n",
       "3         0           0        0             0      No  \n",
       "4         1           0        0             0      No  "
      ]
     },
     "execution_count": 2,
     "metadata": {},
     "output_type": "execute_result"
    }
   ],
   "source": [
    "# Lecture de la Dataset et affichage des premières lignes. \n",
    "df = pd.read_csv('noshowappointments-kagglev2-may-2016.csv')\n",
    "df.head()"
   ]
  },
  {
   "cell_type": "code",
   "execution_count": 3,
   "metadata": {},
   "outputs": [
    {
     "data": {
      "text/plain": [
       "(110527, 14)"
      ]
     },
     "execution_count": 3,
     "metadata": {},
     "output_type": "execute_result"
    }
   ],
   "source": [
    "# Identification des nombres de lignes et de colonne\n",
    "df.shape"
   ]
  },
  {
   "cell_type": "markdown",
   "metadata": {
    "collapsed": true
   },
   "source": [
    "##### Notre Dataset contient 110.527 lignes et 14 colonnes"
   ]
  },
  {
   "cell_type": "code",
   "execution_count": 4,
   "metadata": {},
   "outputs": [
    {
     "data": {
      "text/plain": [
       "PatientId         0\n",
       "AppointmentID     0\n",
       "Gender            0\n",
       "ScheduledDay      0\n",
       "AppointmentDay    0\n",
       "Age               0\n",
       "Neighbourhood     0\n",
       "Scholarship       0\n",
       "Hipertension      0\n",
       "Diabetes          0\n",
       "Alcoholism        0\n",
       "Handcap           0\n",
       "SMS_received      0\n",
       "No-show           0\n",
       "dtype: int64"
      ]
     },
     "execution_count": 4,
     "metadata": {},
     "output_type": "execute_result"
    }
   ],
   "source": [
    "# Vérification de l'existance des valeurs manquantes\n",
    "df.isnull().sum()"
   ]
  },
  {
   "cell_type": "markdown",
   "metadata": {
    "collapsed": true
   },
   "source": [
    "##### La Dataset ne contient pas de données manquantes"
   ]
  },
  {
   "cell_type": "code",
   "execution_count": 5,
   "metadata": {},
   "outputs": [
    {
     "data": {
      "text/plain": [
       "0"
      ]
     },
     "execution_count": 5,
     "metadata": {},
     "output_type": "execute_result"
    }
   ],
   "source": [
    "# Vérification des doublons\n",
    "df.duplicated().sum()"
   ]
  },
  {
   "cell_type": "markdown",
   "metadata": {
    "collapsed": true
   },
   "source": [
    "##### La Dataset ne contient pas de données en doublon"
   ]
  },
  {
   "cell_type": "code",
   "execution_count": 6,
   "metadata": {},
   "outputs": [
    {
     "data": {
      "text/html": [
       "<div>\n",
       "<style scoped>\n",
       "    .dataframe tbody tr th:only-of-type {\n",
       "        vertical-align: middle;\n",
       "    }\n",
       "\n",
       "    .dataframe tbody tr th {\n",
       "        vertical-align: top;\n",
       "    }\n",
       "\n",
       "    .dataframe thead th {\n",
       "        text-align: right;\n",
       "    }\n",
       "</style>\n",
       "<table border=\"1\" class=\"dataframe\">\n",
       "  <thead>\n",
       "    <tr style=\"text-align: right;\">\n",
       "      <th></th>\n",
       "      <th>Gender</th>\n",
       "      <th>Age</th>\n",
       "      <th>Scholarship</th>\n",
       "      <th>SMS_received</th>\n",
       "      <th>No-show</th>\n",
       "    </tr>\n",
       "  </thead>\n",
       "  <tbody>\n",
       "    <tr>\n",
       "      <th>0</th>\n",
       "      <td>F</td>\n",
       "      <td>62</td>\n",
       "      <td>0</td>\n",
       "      <td>0</td>\n",
       "      <td>No</td>\n",
       "    </tr>\n",
       "    <tr>\n",
       "      <th>1</th>\n",
       "      <td>M</td>\n",
       "      <td>56</td>\n",
       "      <td>0</td>\n",
       "      <td>0</td>\n",
       "      <td>No</td>\n",
       "    </tr>\n",
       "    <tr>\n",
       "      <th>2</th>\n",
       "      <td>F</td>\n",
       "      <td>62</td>\n",
       "      <td>0</td>\n",
       "      <td>0</td>\n",
       "      <td>No</td>\n",
       "    </tr>\n",
       "    <tr>\n",
       "      <th>3</th>\n",
       "      <td>F</td>\n",
       "      <td>8</td>\n",
       "      <td>0</td>\n",
       "      <td>0</td>\n",
       "      <td>No</td>\n",
       "    </tr>\n",
       "    <tr>\n",
       "      <th>4</th>\n",
       "      <td>F</td>\n",
       "      <td>56</td>\n",
       "      <td>0</td>\n",
       "      <td>0</td>\n",
       "      <td>No</td>\n",
       "    </tr>\n",
       "  </tbody>\n",
       "</table>\n",
       "</div>"
      ],
      "text/plain": [
       "  Gender  Age  Scholarship  SMS_received No-show\n",
       "0      F   62            0             0      No\n",
       "1      M   56            0             0      No\n",
       "2      F   62            0             0      No\n",
       "3      F    8            0             0      No\n",
       "4      F   56            0             0      No"
      ]
     },
     "execution_count": 6,
     "metadata": {},
     "output_type": "execute_result"
    }
   ],
   "source": [
    "# Suppression des colonnes non impliqués dans l'analyse\n",
    "df = df.drop(['PatientId',\n",
    "              'AppointmentID',\n",
    "              'ScheduledDay',\n",
    "              'AppointmentDay',\n",
    "              'Neighbourhood',\n",
    "              'Hipertension',\n",
    "              'Diabetes',\n",
    "              'Alcoholism',\n",
    "              'Handcap'], \n",
    "             axis=1)\n",
    "\n",
    "df.head()"
   ]
  },
  {
   "cell_type": "code",
   "execution_count": 7,
   "metadata": {},
   "outputs": [
    {
     "data": {
      "text/plain": [
       "Gender          object\n",
       "Age              int64\n",
       "Scholarship      int64\n",
       "SMS_received     int64\n",
       "No-show         object\n",
       "dtype: object"
      ]
     },
     "execution_count": 7,
     "metadata": {},
     "output_type": "execute_result"
    }
   ],
   "source": [
    "# Vérification des types de données\n",
    "df.dtypes"
   ]
  },
  {
   "cell_type": "code",
   "execution_count": 8,
   "metadata": {},
   "outputs": [
    {
     "name": "stdout",
     "output_type": "stream",
     "text": [
      "<class 'pandas.core.frame.DataFrame'>\n",
      "RangeIndex: 110527 entries, 0 to 110526\n",
      "Data columns (total 5 columns):\n",
      "Gender          110527 non-null object\n",
      "Age             110527 non-null int64\n",
      "Scholarship     110527 non-null int64\n",
      "SMS_received    110527 non-null int64\n",
      "No-show         110527 non-null object\n",
      "dtypes: int64(3), object(2)\n",
      "memory usage: 4.2+ MB\n"
     ]
    }
   ],
   "source": [
    "# Explorons en résumé l'état de la Dataset\n",
    "df.info()"
   ]
  },
  {
   "cell_type": "markdown",
   "metadata": {},
   "source": [
    "### Faisons une lecture statistique rapide de notre DataFrame "
   ]
  },
  {
   "cell_type": "code",
   "execution_count": 9,
   "metadata": {},
   "outputs": [
    {
     "data": {
      "text/html": [
       "<div>\n",
       "<style scoped>\n",
       "    .dataframe tbody tr th:only-of-type {\n",
       "        vertical-align: middle;\n",
       "    }\n",
       "\n",
       "    .dataframe tbody tr th {\n",
       "        vertical-align: top;\n",
       "    }\n",
       "\n",
       "    .dataframe thead th {\n",
       "        text-align: right;\n",
       "    }\n",
       "</style>\n",
       "<table border=\"1\" class=\"dataframe\">\n",
       "  <thead>\n",
       "    <tr style=\"text-align: right;\">\n",
       "      <th></th>\n",
       "      <th>Age</th>\n",
       "      <th>Scholarship</th>\n",
       "      <th>SMS_received</th>\n",
       "    </tr>\n",
       "  </thead>\n",
       "  <tbody>\n",
       "    <tr>\n",
       "      <th>count</th>\n",
       "      <td>110527.000000</td>\n",
       "      <td>110527.000000</td>\n",
       "      <td>110527.000000</td>\n",
       "    </tr>\n",
       "    <tr>\n",
       "      <th>mean</th>\n",
       "      <td>37.088874</td>\n",
       "      <td>0.098266</td>\n",
       "      <td>0.321026</td>\n",
       "    </tr>\n",
       "    <tr>\n",
       "      <th>std</th>\n",
       "      <td>23.110205</td>\n",
       "      <td>0.297675</td>\n",
       "      <td>0.466873</td>\n",
       "    </tr>\n",
       "    <tr>\n",
       "      <th>min</th>\n",
       "      <td>-1.000000</td>\n",
       "      <td>0.000000</td>\n",
       "      <td>0.000000</td>\n",
       "    </tr>\n",
       "    <tr>\n",
       "      <th>25%</th>\n",
       "      <td>18.000000</td>\n",
       "      <td>0.000000</td>\n",
       "      <td>0.000000</td>\n",
       "    </tr>\n",
       "    <tr>\n",
       "      <th>50%</th>\n",
       "      <td>37.000000</td>\n",
       "      <td>0.000000</td>\n",
       "      <td>0.000000</td>\n",
       "    </tr>\n",
       "    <tr>\n",
       "      <th>75%</th>\n",
       "      <td>55.000000</td>\n",
       "      <td>0.000000</td>\n",
       "      <td>1.000000</td>\n",
       "    </tr>\n",
       "    <tr>\n",
       "      <th>max</th>\n",
       "      <td>115.000000</td>\n",
       "      <td>1.000000</td>\n",
       "      <td>1.000000</td>\n",
       "    </tr>\n",
       "  </tbody>\n",
       "</table>\n",
       "</div>"
      ],
      "text/plain": [
       "                 Age    Scholarship   SMS_received\n",
       "count  110527.000000  110527.000000  110527.000000\n",
       "mean       37.088874       0.098266       0.321026\n",
       "std        23.110205       0.297675       0.466873\n",
       "min        -1.000000       0.000000       0.000000\n",
       "25%        18.000000       0.000000       0.000000\n",
       "50%        37.000000       0.000000       0.000000\n",
       "75%        55.000000       0.000000       1.000000\n",
       "max       115.000000       1.000000       1.000000"
      ]
     },
     "execution_count": 9,
     "metadata": {},
     "output_type": "execute_result"
    }
   ],
   "source": [
    "# Statistique rapide de la DataFrame\n",
    "df.describe()"
   ]
  },
  {
   "cell_type": "markdown",
   "metadata": {},
   "source": [
    "##### A partir ce cette description, nous pouvons noter :\n",
    "- La moyenne d'âge des patients est de 37 ans;\n",
    "- le patient le plus âgé a 115 ans;\n",
    "- 50% de patients ont la moyenne d'age;\n",
    "- Seul 32% de patient en moyenne ont reçu un SMS de rappel;\n",
    "- Seul environ 10% de patients sont inscrit au programme d'aide;\n",
    "- Antre autres"
   ]
  },
  {
   "cell_type": "markdown",
   "metadata": {},
   "source": [
    "<a id='adf'></a>\n",
    "## Analyse exploratoire des données\n",
    "\n",
    "\n",
    "> Dans cette session, nous allons tenter de trouver des réponses aux questions que nous nous sommes poséés."
   ]
  },
  {
   "cell_type": "markdown",
   "metadata": {},
   "source": [
    "### Tout dabord, nous alons définir quelques fonctions dont nous aurons besoin tout au long de notre analyse"
   ]
  },
  {
   "cell_type": "code",
   "execution_count": 76,
   "metadata": {},
   "outputs": [],
   "source": [
    "# Fonction de calcul de taux\n",
    "def taux(argument_1, argument_2):\n",
    "    return argument_1[argument_2].value_counts(normalize=True)\n",
    "\n",
    "# Fonction de filtre de données\n",
    "def filtre(argument_1, argument_2, argument_3):\n",
    "    return argument_1[argument_1[argument_2] == argument_3]\n",
    "\n",
    "# Fonction de définition de l'histogramme de visualisation\n",
    "def histogramme(argument_1, argument_2, titre, label_x, label_y):\n",
    "    argument_1[argument_2].hist(figsize=(5,5))\n",
    "    plt.title(titre)\n",
    "    plt.xlabel(label_x)\n",
    "    plt.ylabel(label_y)\n",
    "    \n",
    "# Fonction de définition du nuage de point de visualisation\n",
    "def nuage(argument_1, argument_2, titre, label_x, label_y):\n",
    "    figure = plt.figure(figsize=(8,8))\n",
    "    plt.scatter(x=argument_1, y=argument_2)\n",
    "    plt.title(titre)\n",
    "    plt.xlabel(label_x)\n",
    "    plt.ylabel(label_y)"
   ]
  },
  {
   "cell_type": "markdown",
   "metadata": {},
   "source": [
    "<a id='Q1'></a>\n",
    "### Question 1 : Quelle est le pourcentage des patients qui ont honoré à leur rendez-vous ?"
   ]
  },
  {
   "cell_type": "code",
   "execution_count": 11,
   "metadata": {},
   "outputs": [
    {
     "data": {
      "text/plain": [
       "No     0.798067\n",
       "Yes    0.201933\n",
       "Name: No-show, dtype: float64"
      ]
     },
     "execution_count": 11,
     "metadata": {},
     "output_type": "execute_result"
    }
   ],
   "source": [
    "# Pourcentage de patients ayant honoré à leur rendez-vous\n",
    "patient_no = taux(df, 'No-show')\n",
    "patient_no"
   ]
  },
  {
   "cell_type": "markdown",
   "metadata": {},
   "source": [
    "##### Ainsi, environ 80% de patients ont répondu présent à leur rendez-vous, contre 20% qui ne s'y sont pas prêtés."
   ]
  },
  {
   "cell_type": "code",
   "execution_count": 28,
   "metadata": {},
   "outputs": [
    {
     "data": {
      "image/png": "[encoded data removed]",
      "text/plain": [
       "<matplotlib.figure.Figure at 0x7f66049248d0>"
      ]
     },
     "metadata": {
      "needs_background": "light"
     },
     "output_type": "display_data"
    }
   ],
   "source": [
    "# Visualison ce résultat à partir d'un histogramme.\n",
    "histogramme(df, 'No-show', \n",
    "            'Répartition des patients en foction du recpect de rendez-vous.',\n",
    "            'Non recpect de rendez-vous', \n",
    "            'nombre de patient')"
   ]
  },
  {
   "cell_type": "markdown",
   "metadata": {},
   "source": [
    "##### Nous pouvons conclure qu'il ya une forte volontée chez les patients à honorer leur rendez-vous car un peu plus de 90.000 patients ont respecté leur rendez-vous contre envirion 22.000 qui le l'on pas fait."
   ]
  },
  {
   "cell_type": "markdown",
   "metadata": {},
   "source": [
    "<a id='Q2'></a>\n",
    "### Question 2 : L'obtention de la bourse a t-elle une inflience sur le respect des rendez-vous  ?\n",
    "        \n",
    "        \n",
    "> Pour répondre à cette question, nous allons dans un premier temps isoler la Dataset des patients qui ont honoré à leur rendez-vous et par la suite déterminer le taux des boursiers dans ceux-ci."
   ]
  },
  {
   "cell_type": "code",
   "execution_count": 14,
   "metadata": {},
   "outputs": [
    {
     "data": {
      "text/html": [
       "<div>\n",
       "<style scoped>\n",
       "    .dataframe tbody tr th:only-of-type {\n",
       "        vertical-align: middle;\n",
       "    }\n",
       "\n",
       "    .dataframe tbody tr th {\n",
       "        vertical-align: top;\n",
       "    }\n",
       "\n",
       "    .dataframe thead th {\n",
       "        text-align: right;\n",
       "    }\n",
       "</style>\n",
       "<table border=\"1\" class=\"dataframe\">\n",
       "  <thead>\n",
       "    <tr style=\"text-align: right;\">\n",
       "      <th></th>\n",
       "      <th>Gender</th>\n",
       "      <th>Age</th>\n",
       "      <th>Scholarship</th>\n",
       "      <th>SMS_received</th>\n",
       "      <th>No-show</th>\n",
       "    </tr>\n",
       "  </thead>\n",
       "  <tbody>\n",
       "    <tr>\n",
       "      <th>6</th>\n",
       "      <td>F</td>\n",
       "      <td>23</td>\n",
       "      <td>0</td>\n",
       "      <td>0</td>\n",
       "      <td>Yes</td>\n",
       "    </tr>\n",
       "    <tr>\n",
       "      <th>7</th>\n",
       "      <td>F</td>\n",
       "      <td>39</td>\n",
       "      <td>0</td>\n",
       "      <td>0</td>\n",
       "      <td>Yes</td>\n",
       "    </tr>\n",
       "    <tr>\n",
       "      <th>11</th>\n",
       "      <td>M</td>\n",
       "      <td>29</td>\n",
       "      <td>0</td>\n",
       "      <td>1</td>\n",
       "      <td>Yes</td>\n",
       "    </tr>\n",
       "    <tr>\n",
       "      <th>17</th>\n",
       "      <td>F</td>\n",
       "      <td>40</td>\n",
       "      <td>1</td>\n",
       "      <td>0</td>\n",
       "      <td>Yes</td>\n",
       "    </tr>\n",
       "    <tr>\n",
       "      <th>20</th>\n",
       "      <td>F</td>\n",
       "      <td>30</td>\n",
       "      <td>0</td>\n",
       "      <td>0</td>\n",
       "      <td>Yes</td>\n",
       "    </tr>\n",
       "  </tbody>\n",
       "</table>\n",
       "</div>"
      ],
      "text/plain": [
       "   Gender  Age  Scholarship  SMS_received No-show\n",
       "6       F   23            0             0     Yes\n",
       "7       F   39            0             0     Yes\n",
       "11      M   29            0             1     Yes\n",
       "17      F   40            1             0     Yes\n",
       "20      F   30            0             0     Yes"
      ]
     },
     "execution_count": 14,
     "metadata": {},
     "output_type": "execute_result"
    }
   ],
   "source": [
    "# Nombre de patient n'ayant pas respecté leur rendez-vous \n",
    "df_yes = filtre(df, 'No-show', 'Yes') \n",
    "df_yes.head()"
   ]
  },
  {
   "cell_type": "code",
   "execution_count": 15,
   "metadata": {
    "scrolled": true
   },
   "outputs": [
    {
     "data": {
      "text/plain": [
       "0    0.884493\n",
       "1    0.115507\n",
       "Name: Scholarship, dtype: float64"
      ]
     },
     "execution_count": 15,
     "metadata": {},
     "output_type": "execute_result"
    }
   ],
   "source": [
    "# Pourcentage des inscrits au programme et qui n'honore pas à leur rendez-vous\n",
    "schol_yes = taux(df_yes, 'Scholarship')\n",
    "schol_yes"
   ]
  },
  {
   "cell_type": "markdown",
   "metadata": {},
   "source": [
    "##### On note que, parmis les patient qui n'ont pas honoré à leur rendez-vous (20%), environ 88% sont inscrit au programme d'aide, contre 12% qui ne le sont pas."
   ]
  },
  {
   "cell_type": "code",
   "execution_count": 29,
   "metadata": {},
   "outputs": [
    {
     "data": {
      "image/png": "[encoded data removed]",
      "text/plain": [
       "<matplotlib.figure.Figure at 0x7f6604a3ad68>"
      ]
     },
     "metadata": {
      "needs_background": "light"
     },
     "output_type": "display_data"
    }
   ],
   "source": [
    "# Visualisons l'histogramme de cette relation entre \n",
    "# l'inscription au programme d'aide et le non respect du rendez-vous \n",
    " \n",
    "histogramme(df_yes, 'Scholarship', \n",
    "           'Répartition des boursiers en foction du non recpect de rendez-vous.',\n",
    "           'Boursier',\n",
    "           'Nombre de patient')"
   ]
  },
  {
   "cell_type": "markdown",
   "metadata": {},
   "source": [
    "##### nous relevons à partir de l'histogramme que seul 2500 patients non boursiers n'ont pas respecté leur rendez-vous contre un peut plus de 19.000 boursiers. <br/><br/>On peut donc penser que la bourse tant plustôt à décourager les patients quand au respect des rendez-vous."
   ]
  },
  {
   "cell_type": "markdown",
   "metadata": {},
   "source": [
    "<a id='Q3'></a>\n",
    "### Question 3 : Quel serait la distribution du genre sur l'âge ?\n",
    "\n",
    "> Pour repondre à cette questions, nous allons déterminez les proportions par genre des patients.\n"
   ]
  },
  {
   "cell_type": "code",
   "execution_count": 40,
   "metadata": {},
   "outputs": [
    {
     "data": {
      "text/plain": [
       "F    0.649977\n",
       "M    0.350023\n",
       "Name: Gender, dtype: float64"
      ]
     },
     "execution_count": 40,
     "metadata": {},
     "output_type": "execute_result"
    }
   ],
   "source": [
    "genre_yes = taux(df, 'Gender')\n",
    "genre_yes"
   ]
  },
  {
   "cell_type": "markdown",
   "metadata": {},
   "source": [
    "##### On note qu'environ 65% de patient ressencés sont des femmes , contre 35% d'homme."
   ]
  },
  {
   "cell_type": "code",
   "execution_count": 77,
   "metadata": {},
   "outputs": [
    {
     "data": {
      "image/png": "[encoded data removed]",
      "text/plain": [
       "<matplotlib.figure.Figure at 0x7f65fb4cb8d0>"
      ]
     },
     "metadata": {
      "needs_background": "light"
     },
     "output_type": "display_data"
    }
   ],
   "source": [
    "# Visualisons la relation \n",
    "# entre le genre et l'âge à l'aide du graphe En nuage de point\n",
    "nuage(df.Gender, df.Age, \"Distribution du genre par rapport à l'âge.\", \n",
    "      'Genre', 'Age')"
   ]
  },
  {
   "cell_type": "markdown",
   "metadata": {},
   "source": [
    "##### Nous pouvons relever à partir de ce nuage de Point qu'aussi bien les homme que les femmes ont été recensé à tous les tranches d'âge, à l'exception de quelques femmes recensées au delà de 100 ans."
   ]
  },
  {
   "cell_type": "markdown",
   "metadata": {},
   "source": [
    "<a id='Q4'></a>\n",
    "### Question 4 : Quel serait la répartition des âges sur l'effectif des patients ?\n"
   ]
  },
  {
   "cell_type": "code",
   "execution_count": 18,
   "metadata": {},
   "outputs": [
    {
     "data": {
      "text/plain": [
       "37"
      ]
     },
     "execution_count": 18,
     "metadata": {},
     "output_type": "execute_result"
    }
   ],
   "source": [
    "# Détermination de la moyenne d'âge\n",
    "\n",
    "moy_age = int(df.Age.mean())\n",
    "moy_age"
   ]
  },
  {
   "cell_type": "markdown",
   "metadata": {},
   "source": [
    "##### La moyenne d'âge des patients est de 37 ans."
   ]
  },
  {
   "cell_type": "code",
   "execution_count": 71,
   "metadata": {},
   "outputs": [
    {
     "data": {
      "text/plain": [
       " 0      3539\n",
       " 1      2273\n",
       " 52     1746\n",
       " 49     1652\n",
       " 53     1651\n",
       " 56     1635\n",
       " 38     1629\n",
       " 59     1624\n",
       " 2      1618\n",
       " 50     1613\n",
       " 57     1603\n",
       " 36     1580\n",
       " 51     1567\n",
       " 19     1545\n",
       " 39     1536\n",
       " 37     1533\n",
       " 54     1530\n",
       " 34     1526\n",
       " 33     1524\n",
       " 30     1521\n",
       " 6      1521\n",
       " 3      1513\n",
       " 17     1509\n",
       " 32     1505\n",
       " 5      1489\n",
       " 44     1487\n",
       " 18     1487\n",
       " 58     1469\n",
       " 46     1460\n",
       " 45     1453\n",
       "        ... \n",
       " 74      602\n",
       " 76      571\n",
       " 75      544\n",
       " 78      541\n",
       " 77      527\n",
       " 80      511\n",
       " 81      434\n",
       " 82      392\n",
       " 79      390\n",
       " 84      311\n",
       " 83      280\n",
       " 85      275\n",
       " 86      260\n",
       " 87      184\n",
       " 89      173\n",
       " 88      126\n",
       " 90      109\n",
       " 92       86\n",
       " 91       66\n",
       " 93       53\n",
       " 94       33\n",
       " 95       24\n",
       " 96       17\n",
       " 97       11\n",
       " 98        6\n",
       " 115       5\n",
       " 100       4\n",
       " 102       2\n",
       " 99        1\n",
       "-1         1\n",
       "Name: Age, Length: 104, dtype: int64"
      ]
     },
     "execution_count": 71,
     "metadata": {},
     "output_type": "execute_result"
    }
   ],
   "source": [
    "# Regroupons l'effectif par tranche D'âge\n",
    "df.Age.value_counts(dropna=True)"
   ]
  },
  {
   "cell_type": "markdown",
   "metadata": {},
   "source": [
    "##### Nous pouvons lire que la majorité des patients (soit 3539 patients) ont pour âge 0 an et un patient a un âge négatif. <br/><br/> Nous pouvons donc pensé à une incohérence des données liées à l'âge des patients."
   ]
  },
  {
   "cell_type": "code",
   "execution_count": 78,
   "metadata": {},
   "outputs": [
    {
     "data": {
      "image/png": "[encoded data removed]",
      "text/plain": [
       "<matplotlib.figure.Figure at 0x7f65fab58e10>"
      ]
     },
     "metadata": {
      "needs_background": "light"
     },
     "output_type": "display_data"
    }
   ],
   "source": [
    "# Visualisons la répartition de l'âge des PaTIEnts \n",
    "# à l'aide du graphe En nuage de point\n",
    "nuage(df.Age, df.index, \"Distribution de l'âge des patients.\", \n",
    "      'Age', 'Nombre de patient')"
   ]
  },
  {
   "cell_type": "markdown",
   "metadata": {},
   "source": [
    "##### Nous observons que seul quelques patients ont un âge supérieur à 90 ans. <br/><br/> On peut conclure que tous les tranches d'âge sont considérées."
   ]
  },
  {
   "cell_type": "markdown",
   "metadata": {},
   "source": [
    "<a id='conclusion'></a>\n",
    "## Conclusions\n",
    "\n",
    "> Arrivé au terme de l'exploration de la Dataset noshowappointments-kagglev2-may-2016.csv qui traite de la présence ou non des patients aux rendez-vous, nous avons pu relevé que:\n",
    "- La Dataset semble avoir été netoyé au préalable car elle ne contient ni de données manquantes, ni de doublons;\n",
    "- La grande majorité de patient (80%) ont répondu présent aux rendez-vous;\n",
    "- La grande majorité de ceux qui n'ont pas répondu présent au rendez-vous (88%) sont inscrit au programme de bien-être Brésilien;\n",
    "- Le genre féminin sont plus retissantes à honorer au rendez-vous (65%) contre 35% du genre masculin;\n",
    "- Il y a un équilibre de Genre dans chanque tranche d'âge sélectionnée. Néanmoins quelques patients féminins ont au delà de la centaine;\n",
    "- On relève également une incohérence au niveau de l'âge des patients, avec une grande majorité 0 0 an et un à âge négatif;\n",
    "- La grande majorité des patients ont un âge compris entre 0 et 80 ans.\n",
    "\n",
    "> Nous pourrions étendre notre exploration sur la corrélation entre les types de pathologies des patients et leurs tendances à respecter leurs rendez-vous."
   ]
  },
  {
   "cell_type": "markdown",
   "metadata": {},
   "source": [
    "<a id='limite'></a>\n",
    "## Limites\n",
    "> pour l'exploration de notre Dataset, nous nous sommes confronté à un aspect limitant notamment les types de variables. En ce sens que, les variables sur lesquelles nous avons axé notre exploration étaient principalement constituées de données sous forme booléennes (soit 0 ou 1, soit Yes ou No). ceci nous a posé un réel handicape dans notre désir d'utiliser différentes graphiques de visualisation pour mieux apprecier les corrélations. nous avont par cela été contraint à n'utiliser que des graphiques en bar plot, les seuls à nous présenter les figures interessantes."
   ]
  },
  {
   "cell_type": "code",
   "execution_count": 80,
   "metadata": {},
   "outputs": [
    {
     "data": {
      "text/plain": [
       "0"
      ]
     },
     "execution_count": 80,
     "metadata": {},
     "output_type": "execute_result"
    }
   ],
   "source": [
    "from subprocess import call\n",
    "call(['python', '-m', 'nbconvert', 'Investigate_a_noshowappointments-kagglev2-may-2016_Dataset.ipynb'])"
   ]
  }
 ],
 "metadata": {
  "kernelspec": {
   "display_name": "Python 3",
   "language": "python",
   "name": "python3"
  },
  "language_info": {
   "codemirror_mode": {
    "name": "ipython",
    "version": 3
   },
   "file_extension": ".py",
   "mimetype": "text/x-python",
   "name": "python",
   "nbconvert_exporter": "python",
   "pygments_lexer": "ipython3",
   "version": "3.6.3"
  }
 },
 "nbformat": 4,
 "nbformat_minor": 2
}
